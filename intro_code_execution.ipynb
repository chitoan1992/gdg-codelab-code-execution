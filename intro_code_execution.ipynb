{
  "cells": [
    {
      "cell_type": "code",
      "execution_count": null,
      "metadata": {
        "id": "ur8xi4C7S06n"
      },
      "outputs": [],
      "source": [
        "# Copyright 2024 Google LLC\n",
        "#\n",
        "# Licensed under the Apache License, Version 2.0 (the \"License\");\n",
        "# you may not use this file except in compliance with the License.\n",
        "# You may obtain a copy of the License at\n",
        "#\n",
        "#     https://www.apache.org/licenses/LICENSE-2.0\n",
        "#\n",
        "# Unless required by applicable law or agreed to in writing, software\n",
        "# distributed under the License is distributed on an \"AS IS\" BASIS,\n",
        "# WITHOUT WARRANTIES OR CONDITIONS OF ANY KIND, either express or implied.\n",
        "# See the License for the specific language governing permissions and\n",
        "# limitations under the License."
      ]
    },
    {
      "cell_type": "markdown",
      "metadata": {
        "id": "JAPoU8Sm5E6e"
      },
      "source": [
        "# Intro to Generating and Executing Python Code with Gemini 2.5\n",
        "\n",
        "<table align=\"left\">\n",
        "  <td style=\"text-align: center\">\n",
        "    <a href=\"https://colab.research.google.com/github/chitoan1992/gdg-codelab-code-execution/blob/main/intro_code_execution.ipynb\">\n",
        "      <img width=\"32px\" src=\"https://www.gstatic.com/pantheon/images/bigquery/welcome_page/colab-logo.svg\" alt=\"Google Colaboratory logo\"><br> Open in Colab\n",
        "    </a>\n",
        "  </td>\n",
        "  <td style=\"text-align: center\">\n",
        "    <a href=\"https://github.com/chitoan1992/gdg-codelab-code-execution/blob/main/intro_code_execution.ipynb\">\n",
        "      <img width=\"32px\" src=\"https://www.svgrepo.com/download/217753/github.svg\" alt=\"GitHub logo\"><br> View on GitHub\n",
        "    </a>\n",
        "  </td>\n",
        "</table>"
      ]
    },
    {
      "cell_type": "markdown",
      "metadata": {
        "id": "tvgnzT1CKxrO"
      },
      "source": [
        "The Gemini API [code execution](https://ai.google.dev/gemini-api/docs/code-execution) feature enables the model to generate and run Python code based on plain-text instructions that you give it, and even output graphs. It can learn iteratively from the results until it arrives at a final output.\n",
        "\n",
        "This notebook is a walk through:\n",
        "* Understanding how to start using the code execution feature with Gemini API\n",
        "* Learning how to use code execution on single Gemini API calls\n",
        "* Running scenarios using local files (or files uploaded to the Gemini File API) via File I/O\n",
        "* Using code execution on chat interactions\n",
        "* Performing code execution on multimodal scenarios"
      ]
    },
    {
      "cell_type": "markdown",
      "metadata": {
        "id": "61RBz8LLbxCR"
      },
      "source": [
        "## Getting started"
      ]
    },
    {
      "cell_type": "markdown",
      "metadata": {
        "id": "No17Cw5hgx12"
      },
      "source": [
        "### Install Google Gen AI SDK for Python\n"
      ]
    },
    {
      "cell_type": "code",
      "execution_count": null,
      "metadata": {
        "id": "tFy3H3aPgx12"
      },
      "outputs": [],
      "source": [
        "%pip install --upgrade --quiet google-genai"
      ]
    },
    {
      "cell_type": "markdown",
      "metadata": {
        "id": "dmWOrTJ3gx13"
      },
      "source": [
        "### Authenticate your notebook environment (Colab only)\n",
        "\n",
        "If you're running this notebook on Google Colab, run the cell below to authenticate your environment."
      ]
    },
    {
      "cell_type": "code",
      "execution_count": null,
      "metadata": {
        "id": "NyKGtVQjgx13"
      },
      "outputs": [],
      "source": [
        "import sys\n",
        "\n",
        "if \"google.colab\" in sys.modules:\n",
        "    from google.colab import auth\n",
        "\n",
        "    auth.authenticate_user()"
      ]
    },
    {
      "cell_type": "markdown",
      "metadata": {
        "id": "0fggiCx13zxX"
      },
      "source": [
        "### Import libraries"
      ]
    },
    {
      "cell_type": "code",
      "execution_count": null,
      "metadata": {
        "id": "JbrnA9yv3zMC"
      },
      "outputs": [],
      "source": [
        "import os\n",
        "\n",
        "from IPython.display import Markdown, display\n",
        "from google import genai\n",
        "from google.genai.types import GenerateContentConfig, Tool, ToolCodeExecution"
      ]
    },
    {
      "cell_type": "markdown",
      "metadata": {
        "id": "vXiC1rOE3gSZ"
      },
      "source": [
        "### Connect to a generative AI API service\n",
        "\n",
        "Google Gen AI APIs and models including Gemini are available in the following two API services:\n",
        "\n",
        "- [Google AI for Developers](https://ai.google.dev/gemini-api/docs): Experiment, prototype, and deploy small projects.\n",
        "- [Vertex AI](https://cloud.google.com/vertex-ai/generative-ai/docs): Build enterprise-ready projects on Google Cloud.\n",
        "The Google Gen AI SDK provides a unified interface to these two API services.\n",
        "\n",
        "This notebook shows how to use the Google Gen AI SDK with the Gemini API in Vertex AI."
      ]
    },
    {
      "cell_type": "markdown",
      "metadata": {
        "id": "DF4l8DTdWgPY"
      },
      "source": [
        "### Set Google Cloud project information and create client\n",
        "\n",
        "To get started using Vertex AI, you must have an existing Google Cloud project and [enable the Vertex AI API](https://console.cloud.google.com/flows/enableapi?apiid=aiplatform.googleapis.com).\n",
        "\n",
        "Learn more about [setting up a project and a development environment](https://cloud.google.com/vertex-ai/docs/start/cloud-environment)."
      ]
    },
    {
      "cell_type": "code",
      "execution_count": null,
      "metadata": {
        "id": "Nqwi-5ufWp_B"
      },
      "outputs": [],
      "source": [
        "PROJECT_ID = \"gen-lang-client-0469480850\"  # @param {type: \"string\", placeholder: \"[your-project-id]\", isTemplate: true}\n",
        "if not PROJECT_ID or PROJECT_ID == \"[your-project-id]\":\n",
        "    PROJECT_ID = str(os.environ.get(\"GOOGLE_CLOUD_PROJECT\"))\n",
        "\n",
        "LOCATION = os.environ.get(\"GOOGLE_CLOUD_REGION\", \"us-central1\")"
      ]
    },
    {
      "cell_type": "code",
      "execution_count": null,
      "metadata": {
        "id": "3Ab5NQwr4B8j"
      },
      "outputs": [],
      "source": [
        "client = genai.Client(vertexai=True, project=PROJECT_ID, location=LOCATION)"
      ]
    },
    {
      "cell_type": "markdown",
      "metadata": {
        "id": "oQN_6yk5J2rU"
      },
      "source": [
        "#### (Optional) If project ID is not set, we can use api key"
      ]
    },
    {
      "cell_type": "code",
      "execution_count": null,
      "metadata": {
        "id": "EX3J3kjIJ2rV"
      },
      "outputs": [],
      "source": [
        "# from google.colab import userdata\n",
        "# GOOGLE_API_KEY = userdata.get('GOOGLE_API_KEY')\n",
        "# client = genai.Client(api_key=GOOGLE_API_KEY)"
      ]
    },
    {
      "cell_type": "markdown",
      "metadata": {
        "id": "x1vpnyk-q-fz"
      },
      "source": [
        "## Working with code execution in Gemini 2.5\n",
        "\n",
        "### Load the Gemini model\n",
        "\n",
        "The following code loads the Gemini 2.5 Flash model. You can learn about all Gemini models on Vertex AI by visiting the [documentation](https://cloud.google.com/vertex-ai/generative-ai/docs/learn/models):"
      ]
    },
    {
      "cell_type": "code",
      "execution_count": null,
      "metadata": {
        "id": "L8gLWcOFqqF2"
      },
      "outputs": [],
      "source": [
        "MODEL_ID = \"gemini-2.5-flash\"  # @param {type: \"string\"}"
      ]
    },
    {
      "cell_type": "markdown",
      "metadata": {
        "id": "q-jdBwXlM67j"
      },
      "source": [
        "### Define the code execution tool\n",
        "\n",
        "The following code initializes the code execution tool by passing `code_execution` in a `Tool` definition.\n",
        "\n",
        "Later we'll register this tool with the model that it can use to generate and run Python code:"
      ]
    },
    {
      "cell_type": "code",
      "execution_count": null,
      "metadata": {
        "id": "BFxIcGkxbq3_"
      },
      "outputs": [],
      "source": [
        "code_execution_tool = Tool(code_execution=ToolCodeExecution())"
      ]
    },
    {
      "cell_type": "markdown",
      "metadata": {
        "id": "iVyIW9HSJ2rT"
      },
      "source": [
        "### Helper function\n",
        "\n",
        "When using code execution as a tool, the model returns a list of parts including `text`, `executable_code`, `execution_result`, and `inline_data` parts. Use the function below to help you visualize and better display the code execution results. Here are a few details about the different fields of the results:\n",
        "\n",
        "* `text`: Inline text generated by the model.\n",
        "* `executable_code`: Code generated by the model that is meant to be executed.\n",
        "* `code_execution_result`: Result of the `executable_code`.\n",
        "* `inline_data`: Inline media generated by the model."
      ]
    },
    {
      "cell_type": "code",
      "execution_count": null,
      "metadata": {
        "id": "eS4k8GYJJ2rT"
      },
      "outputs": [],
      "source": [
        "from IPython.display import Image, Markdown, Code, HTML\n",
        "\n",
        "def display_code_execution_result(response):\n",
        "  for part in response.candidates[0].content.parts:\n",
        "    if part.text is not None:\n",
        "      display(Markdown(part.text))\n",
        "    if part.executable_code is not None:\n",
        "      code_html = f'<pre style=\"background-color: green;\">{part.executable_code.code}</pre>' # Change code color\n",
        "      display(HTML(code_html))\n",
        "    if part.code_execution_result is not None:\n",
        "      display(Markdown(part.code_execution_result.output))\n",
        "    if part.inline_data is not None:\n",
        "      display(Image(data=part.inline_data.data, width=800, format=\"png\"))\n",
        "    display(Markdown(\"---\"))"
      ]
    },
    {
      "cell_type": "markdown",
      "metadata": {
        "id": "mZgn5tm-NCfH"
      },
      "source": [
        "### Generate and execute code\n",
        "\n",
        "The following code sends a prompt to the Gemini model, asking it to generate and execute Python code to calculate the sum of the first 50 prime numbers. The code execution tool is passed in so the model can generate and run the code:"
      ]
    },
    {
      "cell_type": "markdown",
      "metadata": {
        "id": "0EZvjMSrJ2rV"
      },
      "source": [
        "Without code_execution"
      ]
    },
    {
      "cell_type": "code",
      "execution_count": 82,
      "metadata": {
        "colab": {
          "base_uri": "https://localhost:8080/",
          "height": 1000
        },
        "id": "glA5n3wbJ2rV",
        "outputId": "03276d64-d458-4f61-cc53-ec62b23dbaac"
      },
      "outputs": [
        {
          "output_type": "display_data",
          "data": {
            "text/plain": [
              "<IPython.core.display.Markdown object>"
            ],
            "text/markdown": "Calculating the sum of the first 50 prime numbers is a computational task, as there isn't a simple formula for the sum of primes. We first need to identify the first 50 prime numbers and then sum them up.\n\nHere are the first 50 prime numbers:\n\n1.  2\n2.  3\n3.  5\n4.  7\n5.  11\n6.  13\n7.  17\n8.  19\n9.  23\n10. 29\n11. 31\n12. 37\n13. 41\n14. 43\n15. 47\n16. 53\n17. 59\n18. 61\n19. 67\n20. 71\n21. 73\n22. 79\n23. 83\n24. 89\n25. 97\n26. 101\n27. 103\n28. 107\n29. 109\n30. 113\n31. 127\n32. 131\n33. 137\n34. 139\n35. 149\n36. 151\n37. 157\n38. 163\n39. 167\n40. 173\n41. 179\n42. 181\n43. 191\n44. 193\n45. 197\n46. 199\n47. 211\n48. 223\n49. 227\n50. 229\n\nNow, let's sum these numbers:\n\n2 + 3 + 5 + 7 + 11 + 13 + 17 + 19 + 23 + 29 + 31 + 37 + 41 + 43 + 47 + 53 + 59 + 61 + 67 + 71 + 73 + 79 + 83 + 89 + 97 + 101 + 103 + 107 + 109 + 113 + 127 + 131 + 137 + 139 + 149 + 151 + 157 + 163 + 167 + 173 + 179 + 181 + 191 + 193 + 197 + 199 + 211 + 223 + 227 + 229\n\nThe sum of the first 50 prime numbers is **5736**."
          },
          "metadata": {}
        },
        {
          "output_type": "display_data",
          "data": {
            "text/plain": [
              "<IPython.core.display.Markdown object>"
            ],
            "text/markdown": "---"
          },
          "metadata": {}
        }
      ],
      "source": [
        "response = client.models.generate_content(\n",
        "    model=MODEL_ID,\n",
        "    contents=\"Calculate the sum of the first 50 prime numbers\" # @param {type: \"string\" }\n",
        ")\n",
        "\n",
        "display_code_execution_result(response)"
      ]
    },
    {
      "cell_type": "markdown",
      "metadata": {
        "id": "VnIf4_I_J2rW",
        "vscode": {
          "languageId": "html"
        }
      },
      "source": [
        "With code_execution"
      ]
    },
    {
      "cell_type": "code",
      "execution_count": 81,
      "metadata": {
        "colab": {
          "base_uri": "https://localhost:8080/",
          "height": 562
        },
        "id": "iCXtFRETJ2rW",
        "outputId": "4b2e781c-0d01-4423-a346-6e01ef1e5e15"
      },
      "outputs": [
        {
          "output_type": "display_data",
          "data": {
            "text/plain": [
              "<IPython.core.display.Markdown object>"
            ],
            "text/markdown": "To calculate the sum of the first 50 prime numbers, I will use a Python script.\nFirst, I'll define a function to check if a number is prime.\nSecond, I'll iterate through numbers, checking for primality, until I find the first 50 prime numbers.\nFinally, I will sum these prime numbers.\n\n"
          },
          "metadata": {}
        },
        {
          "output_type": "display_data",
          "data": {
            "text/plain": [
              "<IPython.core.display.Markdown object>"
            ],
            "text/markdown": "---"
          },
          "metadata": {}
        },
        {
          "output_type": "display_data",
          "data": {
            "text/plain": [
              "<IPython.core.display.HTML object>"
            ],
            "text/html": [
              "<pre style=\"background-color: green;\">import math\n",
              "\n",
              "def is_prime(n):\n",
              "    if n < 2:\n",
              "        return False\n",
              "    for i in range(2, int(math.sqrt(n)) + 1):\n",
              "        if n % i == 0:\n",
              "            return False\n",
              "    return True\n",
              "\n",
              "primes = []\n",
              "num = 2\n",
              "while len(primes) < 50:\n",
              "    if is_prime(num):\n",
              "        primes.append(num)\n",
              "    num += 1\n",
              "\n",
              "sum_of_primes = sum(primes)\n",
              "print(f\"The first 50 prime numbers are: {primes}\")\n",
              "print(f\"The sum of the first 50 prime numbers is: {sum_of_primes}\")</pre>"
            ]
          },
          "metadata": {}
        },
        {
          "output_type": "display_data",
          "data": {
            "text/plain": [
              "<IPython.core.display.Markdown object>"
            ],
            "text/markdown": "---"
          },
          "metadata": {}
        },
        {
          "output_type": "display_data",
          "data": {
            "text/plain": [
              "<IPython.core.display.Markdown object>"
            ],
            "text/markdown": "The first 50 prime numbers are: [2, 3, 5, 7, 11, 13, 17, 19, 23, 29, 31, 37, 41, 43, 47, 53, 59, 61, 67, 71, 73, 79, 83, 89, 97, 101, 103, 107, 109, 113, 127, 131, 137, 139, 149, 151, 157, 163, 167, 173, 179, 181, 191, 193, 197, 199, 211, 223, 227, 229]\nThe sum of the first 50 prime numbers is: 5117\n"
          },
          "metadata": {}
        },
        {
          "output_type": "display_data",
          "data": {
            "text/plain": [
              "<IPython.core.display.Markdown object>"
            ],
            "text/markdown": "---"
          },
          "metadata": {}
        },
        {
          "output_type": "display_data",
          "data": {
            "text/plain": [
              "<IPython.core.display.Markdown object>"
            ],
            "text/markdown": "The first 50 prime numbers are: 2, 3, 5, 7, 11, 13, 17, 19, 23, 29, 31, 37, 41, 43, 47, 53, 59, 61, 67, 71, 73, 79, 83, 89, 97, 101, 103, 107, 109, 113, 127, 131, 137, 139, 149, 151, 157, 163, 167, 173, 179, 181, 191, 193, 197, 199, 211, 223, 227, 229.\n\nThe sum of the first 50 prime numbers is **5117**."
          },
          "metadata": {}
        },
        {
          "output_type": "display_data",
          "data": {
            "text/plain": [
              "<IPython.core.display.Markdown object>"
            ],
            "text/markdown": "---"
          },
          "metadata": {}
        }
      ],
      "source": [
        "from google.genai import types\n",
        "\n",
        "response_0 = client.models.generate_content(\n",
        "    model=MODEL_ID,\n",
        "    contents=\"Calculate the sum of the first 50 prime numbers\" # @param {type: \"string\" }\n",
        "    , config=types.GenerateContentConfig(\n",
        "        tools=[types.Tool(\n",
        "            code_execution=types.ToolCodeExecution\n",
        "            )]\n",
        "        )\n",
        "    )\n",
        "\n",
        "display_code_execution_result(response_0)"
      ]
    },
    {
      "cell_type": "markdown",
      "metadata": {
        "id": "cBkoexLndotR"
      },
      "source": [
        "#### Your turn\n",
        "Rewrite the question in your language and execute\n",
        "Example: Calculate the sum of the first 50 prime numbers -> Tính tổng 50 số nguyên tố đầu tiên"
      ]
    },
    {
      "cell_type": "markdown",
      "metadata": {
        "id": "Bl6KG5Ufu5XQ"
      },
      "source": [
        "### Code execution in a streaming session\n",
        "\n",
        "You can also use the code execution functionality with streaming output from the Gemini API.\n",
        "\n",
        "The following code demonstrates how the Gemini API can generate and execute code while streaming the results:"
      ]
    },
    {
      "cell_type": "code",
      "execution_count": null,
      "metadata": {
        "colab": {
          "base_uri": "https://localhost:8080/",
          "height": 996
        },
        "id": "ZgcWsDj3J2rX",
        "outputId": "4ef63467-ea92-46f8-e7fc-c0de787565e9"
      },
      "outputs": [
        {
          "data": {
            "text/markdown": [
              "To plot a sine wave, we"
            ],
            "text/plain": [
              "<IPython.core.display.Markdown object>"
            ]
          },
          "metadata": {},
          "output_type": "display_data"
        },
        {
          "data": {
            "text/markdown": [
              "---"
            ],
            "text/plain": [
              "<IPython.core.display.Markdown object>"
            ]
          },
          "metadata": {},
          "output_type": "display_data"
        },
        {
          "data": {
            "text/markdown": [
              "'ll use the `numpy` library to generate the data points and `matplotlib.pyplot` to create the plot.\n",
              "\n",
              "Here's the Python code to achieve this:\n",
              "\n"
            ],
            "text/plain": [
              "<IPython.core.display.Markdown object>"
            ]
          },
          "metadata": {},
          "output_type": "display_data"
        },
        {
          "data": {
            "text/markdown": [
              "---"
            ],
            "text/plain": [
              "<IPython.core.display.Markdown object>"
            ]
          },
          "metadata": {},
          "output_type": "display_data"
        },
        {
          "data": {
            "text/html": [
              "<pre style=\"background-color: green;\">import numpy as np\n",
              "import matplotlib.pyplot as plt\n",
              "\n",
              "# Generate x values (e.g., from 0 to 2*pi)\n",
              "x = np.linspace(0, 2 * np.pi, 400)\n",
              "\n",
              "# Calculate y values (sine of x)\n",
              "y = np.sin(x)\n",
              "\n",
              "# Create the plot\n",
              "plt.figure(figsize=(8, 4)) # Set the figure size for better viewing\n",
              "plt.plot(x, y, label='sin(x)', color='blue')\n",
              "\n",
              "# Add labels and title\n",
              "plt.title('Sine Wave Plot')\n",
              "plt.xlabel('X-axis (Radians)')\n",
              "plt.ylabel('Y-axis (Amplitude)')\n",
              "plt.grid(True) # Add a grid for readability\n",
              "plt.axhline(0, color='black', linewidth=0.5) # Add a horizontal line at y=0\n",
              "plt.axvline(0, color='black', linewidth=0.5) # Add a vertical line at x=0\n",
              "plt.legend() # Show the legend\n",
              "\n",
              "# Display the plot\n",
              "plt.show()\n",
              "</pre>"
            ],
            "text/plain": [
              "<IPython.core.display.HTML object>"
            ]
          },
          "metadata": {},
          "output_type": "display_data"
        },
        {
          "data": {
            "text/markdown": [
              "---"
            ],
            "text/plain": [
              "<IPython.core.display.Markdown object>"
            ]
          },
          "metadata": {},
          "output_type": "display_data"
        },
        {
          "data": {
            "image/png": "[encoded data removed]",
            "text/plain": [
              "<IPython.core.display.Image object>"
            ]
          },
          "metadata": {
            "image/png": {
              "width": 800
            }
          },
          "output_type": "display_data"
        },
        {
          "data": {
            "text/markdown": [
              "---"
            ],
            "text/plain": [
              "<IPython.core.display.Markdown object>"
            ]
          },
          "metadata": {},
          "output_type": "display_data"
        },
        {
          "data": {
            "text/markdown": [
              "The image you provided confirms that the Python code successfully generated the sine wave plot as requested."
            ],
            "text/plain": [
              "<IPython.core.display.Markdown object>"
            ]
          },
          "metadata": {},
          "output_type": "display_data"
        },
        {
          "data": {
            "text/markdown": [
              "---"
            ],
            "text/plain": [
              "<IPython.core.display.Markdown object>"
            ]
          },
          "metadata": {},
          "output_type": "display_data"
        }
      ],
      "source": [
        "prompt = \"Generate Python code to plot a sine wave and execute it.\" # @param {type: \"string\"}\n",
        "result = client.models.generate_content_stream(\n",
        "    model=MODEL_ID,\n",
        "    contents=[\n",
        "        prompt\n",
        "    ],\n",
        "    config=types.GenerateContentConfig(\n",
        "        tools=[types.Tool(code_execution=types.ToolCodeExecution)]\n",
        "    )\n",
        ")\n",
        "\n",
        "for chunk in result:\n",
        "    display_code_execution_result(chunk)"
      ]
    },
    {
      "cell_type": "markdown",
      "metadata": {
        "id": "PiQ_mbvJdotS"
      },
      "source": [
        "#### Your turn\n",
        "Rewrite the question in your language and execute\n",
        "Example: Generate Python code to plot a sine wave and execute it. -> Viết hàm python vẽ đồ thị hình sin"
      ]
    },
    {
      "cell_type": "markdown",
      "metadata": {
        "id": "2a4e033321ad"
      },
      "source": [
        "### Multimodal prompting\n",
        "\n",
        "You can pass media objects as part of the prompt, the model can look at these objects but it can't use them in the code.\n",
        "\n",
        "In this example, you will interact with Gemini API, using code execution, to run simulations of the [Monty Hall Problem](https://en.wikipedia.org/wiki/Monty_Hall_problem)."
      ]
    },
    {
      "cell_type": "code",
      "execution_count": 56,
      "metadata": {
        "colab": {
          "base_uri": "https://localhost:8080/"
        },
        "id": "EQnn-CzMJ2ri",
        "outputId": "87a3605f-c255-4aa7-ca4e-3f5592bc15d9"
      },
      "outputs": [
        {
          "output_type": "stream",
          "name": "stdout",
          "text": [
            "  % Total    % Received % Xferd  Average Speed   Time    Time     Time  Current\n",
            "                                 Dload  Upload   Total   Spent    Left  Speed\n",
            "100 29344  100 29344    0     0  52340      0 --:--:-- --:--:-- --:--:-- 52400\n"
          ]
        }
      ],
      "source": [
        "IMAGE_URL = \"https://blogger.googleusercontent.com/img/b/R29vZ2xl/AVvXsEi7NH71SLX7jxATndCfeSqBvs-wijDhEpHIRoIZlI0ukvF1DQCEsAwqPjaPAPQs8WpnB5TU3QBIeR93rWQFh3BL-iNGMb4VSCc1T_ixmw2Y-k6OHwYT8iJ6p8wyWE5xnSKkBkgSd9pZmpOx/s800/maths-quiz-puzzle-question.png\"  # @param {type: \"string\"}\n",
        "! curl -o my_image.png {IMAGE_URL}"
      ]
    },
    {
      "cell_type": "code",
      "execution_count": 57,
      "metadata": {
        "colab": {
          "base_uri": "https://localhost:8080/",
          "height": 817
        },
        "id": "gHfeyz5DJ2ri",
        "outputId": "1b733e47-9fa8-458f-dbc6-865982481c51"
      },
      "outputs": [
        {
          "output_type": "execute_result",
          "data": {
            "text/plain": [
              "<PIL.PngImagePlugin.PngImageFile image mode=P size=800x800>"
            ],
            "image/png": "[encoded data removed]"
          },
          "metadata": {},
          "execution_count": 57
        }
      ],
      "source": [
        "import PIL\n",
        "my_image = PIL.Image.open(\"my_image.png\")\n",
        "my_image"
      ]
    },
    {
      "cell_type": "code",
      "execution_count": 68,
      "metadata": {
        "colab": {
          "base_uri": "https://localhost:8080/",
          "height": 969
        },
        "id": "9mc3f7zOJ2ri",
        "outputId": "0a21812e-03cf-4ded-9dc9-742e17f3d77d"
      },
      "outputs": [
        {
          "output_type": "display_data",
          "data": {
            "text/plain": [
              "<IPython.core.display.Markdown object>"
            ],
            "text/markdown": "This puzzle presents a system of three linear equations with three unknowns, represented by images of fruits. I will assign variables to each fruit and then use a"
          },
          "metadata": {}
        },
        {
          "output_type": "display_data",
          "data": {
            "text/plain": [
              "<IPython.core.display.Markdown object>"
            ],
            "text/markdown": "---"
          },
          "metadata": {}
        },
        {
          "output_type": "display_data",
          "data": {
            "text/plain": [
              "<IPython.core.display.Markdown object>"
            ],
            "text/markdown": " Python tool with the `sympy` library to solve the system of equations.\n\nLet:\n*   Pineapple = `P`\n*   Grape = `G`\n*   Apple = `A`\n\nFrom the image, I can extract the following equations:\n\n1.  `P + G"
          },
          "metadata": {}
        },
        {
          "output_type": "display_data",
          "data": {
            "text/plain": [
              "<IPython.core.display.Markdown object>"
            ],
            "text/markdown": "---"
          },
          "metadata": {}
        },
        {
          "output_type": "display_data",
          "data": {
            "text/plain": [
              "<IPython.core.display.Markdown object>"
            ],
            "text/markdown": " = 9`\n2.  `2G + A = 19`\n3.  `A + P = 7`\n\nThe goal is to find the value of `A + G + P`.\n\nNow, I will use the `sympy` library to solve this system of equations.\n\n"
          },
          "metadata": {}
        },
        {
          "output_type": "display_data",
          "data": {
            "text/plain": [
              "<IPython.core.display.Markdown object>"
            ],
            "text/markdown": "---"
          },
          "metadata": {}
        },
        {
          "output_type": "display_data",
          "data": {
            "text/plain": [
              "<IPython.core.display.HTML object>"
            ],
            "text/html": [
              "<pre style=\"background-color: green;\">import sympy\n",
              "\n",
              "P, G, A = sympy.symbols('P G A')\n",
              "\n",
              "eq1 = sympy.Eq(P + G, 9)\n",
              "eq2 = sympy.Eq(2*G + A, 19)\n",
              "eq3 = sympy.Eq(A + P, 7)\n",
              "\n",
              "solution = sympy.solve((eq1, eq2, eq3), (P, G, A))\n",
              "print(f'Solution: {solution}')\n",
              "\n",
              "# Calculate the final expression\n",
              "final_expression = solution[A] + solution[G] + solution[P]\n",
              "print(f'Final Expression (A + G + P): {final_expression}')</pre>"
            ]
          },
          "metadata": {}
        },
        {
          "output_type": "display_data",
          "data": {
            "text/plain": [
              "<IPython.core.display.Markdown object>"
            ],
            "text/markdown": "---"
          },
          "metadata": {}
        },
        {
          "output_type": "display_data",
          "data": {
            "text/plain": [
              "<IPython.core.display.Markdown object>"
            ],
            "text/markdown": "Solution: {A: 5, G: 7, P: 2}\nFinal Expression (A + G + P): 14\n"
          },
          "metadata": {}
        },
        {
          "output_type": "display_data",
          "data": {
            "text/plain": [
              "<IPython.core.display.Markdown object>"
            ],
            "text/markdown": "---"
          },
          "metadata": {}
        },
        {
          "output_type": "display_data",
          "data": {
            "text/plain": [
              "<IPython.core.display.Markdown object>"
            ],
            "text/markdown": "The solution for"
          },
          "metadata": {}
        },
        {
          "output_type": "display_data",
          "data": {
            "text/plain": [
              "<IPython.core.display.Markdown object>"
            ],
            "text/markdown": "---"
          },
          "metadata": {}
        },
        {
          "output_type": "display_data",
          "data": {
            "text/plain": [
              "<IPython.core.display.Markdown object>"
            ],
            "text/markdown": " each fruit is:\n*   Apple (`A`) = 5\n*   Grape ("
          },
          "metadata": {}
        },
        {
          "output_type": "display_data",
          "data": {
            "text/plain": [
              "<IPython.core.display.Markdown object>"
            ],
            "text/markdown": "---"
          },
          "metadata": {}
        },
        {
          "output_type": "display_data",
          "data": {
            "text/plain": [
              "<IPython.core.display.Markdown object>"
            ],
            "text/markdown": "`G`) = 7\n*   Pineapple (`P`) = 2\n\nNow"
          },
          "metadata": {}
        },
        {
          "output_type": "display_data",
          "data": {
            "text/plain": [
              "<IPython.core.display.Markdown object>"
            ],
            "text/markdown": "---"
          },
          "metadata": {}
        },
        {
          "output_type": "display_data",
          "data": {
            "text/plain": [
              "<IPython.core.display.Markdown object>"
            ],
            "text/markdown": ", I will calculate the value of the final expression: Apple + Grape + Pineapple.\n\n`A + G + P = 5 + 7 + 2 = 14"
          },
          "metadata": {}
        },
        {
          "output_type": "display_data",
          "data": {
            "text/plain": [
              "<IPython.core.display.Markdown object>"
            ],
            "text/markdown": "---"
          },
          "metadata": {}
        },
        {
          "output_type": "display_data",
          "data": {
            "text/plain": [
              "<IPython.core.display.Markdown object>"
            ],
            "text/markdown": "`\n\nThe solution to the quiz is 14."
          },
          "metadata": {}
        },
        {
          "output_type": "display_data",
          "data": {
            "text/plain": [
              "<IPython.core.display.Markdown object>"
            ],
            "text/markdown": "---"
          },
          "metadata": {}
        }
      ],
      "source": [
        "prompt=\"Solve the quizz\" # @param {type: \"string\"}\n",
        "result = client.models.generate_content_stream(\n",
        "    model=MODEL_ID,\n",
        "    contents=[\n",
        "        prompt,\n",
        "        my_image\n",
        "    ],\n",
        "    config=types.GenerateContentConfig(\n",
        "        tools=[types.Tool(code_execution=types.ToolCodeExecution)]\n",
        "    )\n",
        ")\n",
        "for chunk in result:\n",
        "    display_code_execution_result(chunk)"
      ]
    },
    {
      "cell_type": "markdown",
      "metadata": {
        "id": "IWndoqoUdotS"
      },
      "source": [
        "#### Your turn\n",
        "Solve this quizz\n",
        "\n",
        "![image](https://img.jagranjosh.com/images/2024/June/2862024/solve%20the%20math%20puzze%20in%2010%20seconds.jpg)\n",
        "\n",
        "image link: https://img.jagranjosh.com/images/2024/June/2862024/solve%20the%20math%20puzze%20in%2010%20seconds.jpg"
      ]
    },
    {
      "cell_type": "markdown",
      "metadata": {
        "id": "8uJ-Fk1I_AH8"
      },
      "source": [
        "### Code execution in a chat session\n",
        "\n",
        "This section shows how to use code execution in an interactive chat with history using the Gemini API.\n",
        "\n",
        "You can use `client.chats.create` to create a chat session and passes in the code execution tool, enabling the model to generate and run code:"
      ]
    },
    {
      "cell_type": "code",
      "execution_count": null,
      "metadata": {
        "id": "puL91bq7tirC"
      },
      "outputs": [],
      "source": [
        "chat = client.chats.create(\n",
        "    model=MODEL_ID,\n",
        "    config=GenerateContentConfig(\n",
        "        tools=[code_execution_tool],\n",
        "        temperature=0,\n",
        "    ),\n",
        ")"
      ]
    },
    {
      "cell_type": "markdown",
      "metadata": {
        "id": "Bmu4bSApoECT"
      },
      "source": [
        "You'll start the chat by asking the model to generate sample time series data with noise and then output a sample of 10 data points:"
      ]
    },
    {
      "cell_type": "code",
      "execution_count": 62,
      "metadata": {
        "colab": {
          "base_uri": "https://localhost:8080/",
          "height": 966
        },
        "id": "8iyq5sKCtstH",
        "outputId": "e161f8dc-5434-4db4-d3d0-34a8cc076904"
      },
      "outputs": [
        {
          "output_type": "display_data",
          "data": {
            "text/plain": [
              "<IPython.core.display.Markdown object>"
            ],
            "text/markdown": "To create sample time series data of temperature vs. time in a test furnace with added noise, I will follow these steps:\n\n1.  **Define a time range:** I'll create a time array representing the duration of the furnace operation.\n2.  **Generate a base temperature profile:** I'll model the furnace heating up from an initial temperature to a target temperature using an exponential rise, which is typical for heating processes.\n3.  **Add random noise:** I'll introduce Gaussian noise to the base temperature profile to simulate real-world fluctuations and measurement inaccuracies.\n4.  **Create a Pandas DataFrame:** Organize the time and temperature data into a DataFrame.\n5.  **Select a sample:** Finally, I'll extract 10 data points from the generated time series.\n\nHere's the Python code to achieve this:\n\n"
          },
          "metadata": {}
        },
        {
          "output_type": "display_data",
          "data": {
            "text/plain": [
              "<IPython.core.display.Markdown object>"
            ],
            "text/markdown": "---"
          },
          "metadata": {}
        },
        {
          "output_type": "display_data",
          "data": {
            "text/plain": [
              "<IPython.core.display.HTML object>"
            ],
            "text/html": [
              "<pre style=\"background-color: green;\">import numpy as np\n",
              "import pandas as pd\n",
              "\n",
              "# 1. Define time range\n",
              "# Let's simulate 5 hours of furnace operation with 100 data points for the underlying curve\n",
              "time_hours = np.linspace(0, 5, 100)\n",
              "\n",
              "# 2. Generate a base temperature profile (exponential rise)\n",
              "initial_temp = 25  # °C (room temperature)\n",
              "target_temp = 1000 # °C (furnace setpoint)\n",
              "heating_rate_constant = 1.0 # Controls how fast it heats up\n",
              "\n",
              "base_temperature = initial_temp + (target_temp - initial_temp) * (1 - np.exp(-heating_rate_constant * time_hours))\n",
              "\n",
              "# 3. Add random noise\n",
              "noise_std_dev = 20 # Standard deviation of the noise in °C\n",
              "noise = np.random.normal(0, noise_std_dev, len(time_hours))\n",
              "noisy_temperature = base_temperature + noise\n",
              "\n",
              "# Ensure temperature doesn't go below initial temp significantly due to noise\n",
              "# For simplicity, let's cap it at a reasonable minimum if noise pushes it too low\n",
              "noisy_temperature[noisy_temperature < initial_temp - noise_std_dev] = initial_temp - noise_std_dev\n",
              "\n",
              "# 4. Create a DataFrame for better organization\n",
              "furnace_data = pd.DataFrame({\n",
              "    'Time (hours)': time_hours,\n",
              "    'Temperature (°C)': noisy_temperature\n",
              "})\n",
              "\n",
              "# 5. Select a sample of 10 data points\n",
              "# We'll randomly sample 10 points from the generated data\n",
              "# Using a fixed random_state for reproducibility to get the same sample each time this code runs\n",
              "sample_data = furnace_data.sample(n=10, random_state=42).sort_values(by='Time (hours)').reset_index(drop=True)\n",
              "\n",
              "print(\"Sample of 10 Time Series Data Points (Temperature vs. Time):\")\n",
              "print(sample_data.to_string(index=False))\n",
              "</pre>"
            ]
          },
          "metadata": {}
        },
        {
          "output_type": "display_data",
          "data": {
            "text/plain": [
              "<IPython.core.display.Markdown object>"
            ],
            "text/markdown": "---"
          },
          "metadata": {}
        },
        {
          "output_type": "display_data",
          "data": {
            "text/plain": [
              "<IPython.core.display.Markdown object>"
            ],
            "text/markdown": "Sample of 10 Time Series Data Points (Temperature vs. Time):\n Time (hours)  Temperature (°C)\n     0.000000         38.130405\n     0.505051        399.580910\n     1.111111        677.279769\n     1.969697        879.355258\n     2.222222        896.716814\n     2.272727        909.452131\n     2.676768        912.987181\n     3.535354        984.440249\n     4.040404        973.334038\n     4.191919       1021.260406\n"
          },
          "metadata": {}
        },
        {
          "output_type": "display_data",
          "data": {
            "text/plain": [
              "<IPython.core.display.Markdown object>"
            ],
            "text/markdown": "---"
          },
          "metadata": {}
        },
        {
          "output_type": "display_data",
          "data": {
            "text/plain": [
              "<IPython.core.display.Markdown object>"
            ],
            "text/markdown": "The output above shows a sample of 10 data points from the generated time series. Each row represents a specific time point and the corresponding temperature in the furnace, which includes the simulated heating profile and added random noise. The temperatures generally increase over time, reflecting the furnace heating up, with slight fluctuations due to the noise."
          },
          "metadata": {}
        },
        {
          "output_type": "display_data",
          "data": {
            "text/plain": [
              "<IPython.core.display.Markdown object>"
            ],
            "text/markdown": "---"
          },
          "metadata": {}
        }
      ],
      "source": [
        "# Tạo dataframe mẫu cho dữ liệu chuỗi thời gian về nhiệt độ theo thời gian trong lò thử nghiệm. Thêm nhiễu vào dữ liệu. Xuất ra mẫu 10 điểm dữ liệu từ dữ liệu chuỗi thời gian.\n",
        "PROMPT = \"Create sample dataframe of time series data of temperature vs. time in a test furnace. Add noise to the data. Output a sample of 10 data points from the time series data.\" # @param {type: \"string\" }\n",
        "\n",
        "response = chat.send_message(PROMPT)\n",
        "\n",
        "display_code_execution_result(response)"
      ]
    },
    {
      "cell_type": "markdown",
      "metadata": {
        "id": "4AHoGmDBQuxn"
      },
      "source": [
        "Now you can ask the model to add a smoothed data series to the time series data:"
      ]
    },
    {
      "cell_type": "code",
      "execution_count": 63,
      "metadata": {
        "colab": {
          "base_uri": "https://localhost:8080/",
          "height": 963
        },
        "id": "alR_tq3pss7j",
        "outputId": "37903c45-e522-43de-c9fa-a31800271108"
      },
      "outputs": [
        {
          "output_type": "display_data",
          "data": {
            "text/plain": [
              "<IPython.core.display.Markdown object>"
            ],
            "text/markdown": "To add a smoothed data series to the sample data, I will use the Exponential Weighted Mean (EWM) method. This method is suitable for time series data as it gives more weight to recent observations and provides a smooth curve without reducing the number of data points, which is important for a small sample size like 10 points.\n\nFirst, I'll regenerate the original sample data to ensure consistency. Then, I'll apply the EWM with a `span` parameter (which controls the degree of smoothing; a smaller span means less smoothing, a larger span means more smoothing) to the `Temperature (°C)` column and add it as a new column.\n\n"
          },
          "metadata": {}
        },
        {
          "output_type": "display_data",
          "data": {
            "text/plain": [
              "<IPython.core.display.Markdown object>"
            ],
            "text/markdown": "---"
          },
          "metadata": {}
        },
        {
          "output_type": "display_data",
          "data": {
            "text/plain": [
              "<IPython.core.display.HTML object>"
            ],
            "text/html": [
              "<pre style=\"background-color: green;\">import numpy as np\n",
              "import pandas as pd\n",
              "\n",
              "# Re-create the original sample data (as generated in the previous step)\n",
              "# 1. Define time range\n",
              "time_hours = np.linspace(0, 5, 100)\n",
              "\n",
              "# 2. Generate a base temperature profile (exponential rise)\n",
              "initial_temp = 25  # °C (room temperature)\n",
              "target_temp = 1000 # °C (furnace setpoint)\n",
              "heating_rate_constant = 1.0 # Controls how fast it heats up\n",
              "\n",
              "base_temperature = initial_temp + (target_temp - initial_temp) * (1 - np.exp(-heating_rate_constant * time_hours))\n",
              "\n",
              "# 3. Add random noise\n",
              "noise_std_dev = 20 # Standard deviation of the noise in °C\n",
              "noise = np.random.normal(0, noise_std_dev, len(time_hours))\n",
              "noisy_temperature = base_temperature + noise\n",
              "\n",
              "# Ensure temperature doesn't go below initial temp significantly due to noise\n",
              "noisy_temperature[noisy_temperature < initial_temp - noise_std_dev] = initial_temp - noise_std_dev\n",
              "\n",
              "# Create a DataFrame for better organization\n",
              "furnace_data = pd.DataFrame({\n",
              "    'Time (hours)': time_hours,\n",
              "    'Temperature (°C)': noisy_temperature\n",
              "})\n",
              "\n",
              "# 4. Select a sample of 10 data points (using the same random_state for reproducibility)\n",
              "sample_data = furnace_data.sample(n=10, random_state=42).sort_values(by='Time (hours)').reset_index(drop=True)\n",
              "\n",
              "# Now, add the smoothed data series\n",
              "# Using Exponential Weighted Mean (EWM) for smoothing\n",
              "# The 'span' parameter is similar to a window size; a smaller span means less smoothing.\n",
              "# For 10 points, a span of 3 or 5 is reasonable. Let's use 3 for moderate smoothing.\n",
              "sample_data['Smoothed Temperature (°C)'] = sample_data['Temperature (°C)'].ewm(span=3).mean()\n",
              "\n",
              "print(\"Sample of 10 Time Series Data Points with Smoothed Temperature:\")\n",
              "print(sample_data.to_string(index=False))\n",
              "</pre>"
            ]
          },
          "metadata": {}
        },
        {
          "output_type": "display_data",
          "data": {
            "text/plain": [
              "<IPython.core.display.Markdown object>"
            ],
            "text/markdown": "---"
          },
          "metadata": {}
        },
        {
          "output_type": "display_data",
          "data": {
            "text/plain": [
              "<IPython.core.display.Markdown object>"
            ],
            "text/markdown": "Sample of 10 Time Series Data Points with Smoothed Temperature:\n Time (hours)  Temperature (°C)  Smoothed Temperature (°C)\n     0.000000         57.648681                  57.648681\n     0.505051        373.011211                 267.890367\n     1.111111        696.633976                 512.886715\n     1.969697        822.068307                 677.783564\n     2.222222        883.237047                 783.824072\n     2.272727        858.584536                 821.797641\n     2.676768        957.371502                 890.118327\n     3.535354        978.844532                 934.655402\n     4.040404        977.716477                 956.228074\n     4.191919       1007.870187                 982.074371\n"
          },
          "metadata": {}
        },
        {
          "output_type": "display_data",
          "data": {
            "text/plain": [
              "<IPython.core.display.Markdown object>"
            ],
            "text/markdown": "---"
          },
          "metadata": {}
        },
        {
          "output_type": "display_data",
          "data": {
            "text/plain": [
              "<IPython.core.display.Markdown object>"
            ],
            "text/markdown": "The output now includes a new column, `Smoothed Temperature (°C)`, which represents the smoothed version of the original `Temperature (°C)` data. You can observe that the `Smoothed Temperature (°C)` values follow the general trend of the `Temperature (°C)` but with less fluctuation, especially noticeable in the initial points where the smoothing effect is more pronounced as the EWM accumulates data."
          },
          "metadata": {}
        },
        {
          "output_type": "display_data",
          "data": {
            "text/plain": [
              "<IPython.core.display.Markdown object>"
            ],
            "text/markdown": "---"
          },
          "metadata": {}
        }
      ],
      "source": [
        "# Bây giờ hãy thêm một chuỗi dữ liệu làm mượt dữ liệu mẫu\n",
        "PROMPT = \"Now add a data series that smooths the sample data.\" # @param {type: \"string\" }\n",
        "\n",
        "response = chat.send_message(PROMPT)\n",
        "\n",
        "display_code_execution_result(response)"
      ]
    },
    {
      "cell_type": "markdown",
      "metadata": {
        "id": "I4VacTEyQ4lD"
      },
      "source": [
        "Finally, you can ask the model to generate descriptive statistics for the time series data:"
      ]
    },
    {
      "cell_type": "code",
      "execution_count": 64,
      "metadata": {
        "colab": {
          "base_uri": "https://localhost:8080/",
          "height": 1000
        },
        "id": "dmhPzmP8tywL",
        "outputId": "d225d905-b8a8-479b-ca8f-78c76a69313c"
      },
      "outputs": [
        {
          "output_type": "display_data",
          "data": {
            "text/plain": [
              "<IPython.core.display.Markdown object>"
            ],
            "text/markdown": "To generate descriptive statistics for the sample time series data, including the newly added 'Smoothed Temperature (°C)'"
          },
          "metadata": {}
        },
        {
          "output_type": "display_data",
          "data": {
            "text/plain": [
              "<IPython.core.display.Markdown object>"
            ],
            "text/markdown": "---"
          },
          "metadata": {}
        },
        {
          "output_type": "display_data",
          "data": {
            "text/plain": [
              "<IPython.core.display.Markdown object>"
            ],
            "text/markdown": " column, I will use the `describe()` method from the pandas library. This will provide a summary of central tendency, dispersion, and shape for all numerical columns."
          },
          "metadata": {}
        },
        {
          "output_type": "display_data",
          "data": {
            "text/plain": [
              "<IPython.core.display.Markdown object>"
            ],
            "text/markdown": "---"
          },
          "metadata": {}
        },
        {
          "output_type": "display_data",
          "data": {
            "text/plain": [
              "<IPython.core.display.Markdown object>"
            ],
            "text/markdown": "\n\nThe statistics will include:\n*   **count**: Number of non-null observations.\n*   **mean**: The average value.\n*   **std**: Standard deviation, which measures the amount of variation or dispersion.\n*   "
          },
          "metadata": {}
        },
        {
          "output_type": "display_data",
          "data": {
            "text/plain": [
              "<IPython.core.display.Markdown object>"
            ],
            "text/markdown": "---"
          },
          "metadata": {}
        },
        {
          "output_type": "display_data",
          "data": {
            "text/plain": [
              "<IPython.core.display.Markdown object>"
            ],
            "text/markdown": "**min**: The minimum value.\n*   **25% (Q1)**: The first quartile (25th percentile).\n*   **50% (Q2)**: The median (50th percentile)."
          },
          "metadata": {}
        },
        {
          "output_type": "display_data",
          "data": {
            "text/plain": [
              "<IPython.core.display.Markdown object>"
            ],
            "text/markdown": "---"
          },
          "metadata": {}
        },
        {
          "output_type": "display_data",
          "data": {
            "text/plain": [
              "<IPython.core.display.Markdown object>"
            ],
            "text/markdown": "\n*   **75% (Q3)**: The third quartile (75th percentile).\n*   **max**: The maximum value.\n\nHere's the Python code to generate these statistics:\n\n"
          },
          "metadata": {}
        },
        {
          "output_type": "display_data",
          "data": {
            "text/plain": [
              "<IPython.core.display.Markdown object>"
            ],
            "text/markdown": "---"
          },
          "metadata": {}
        },
        {
          "output_type": "display_data",
          "data": {
            "text/plain": [
              "<IPython.core.display.HTML object>"
            ],
            "text/html": [
              "<pre style=\"background-color: green;\">import numpy as np\n",
              "import pandas as pd\n",
              "\n",
              "# Re-create the original sample data (as generated in the previous steps)\n",
              "# 1. Define time range\n",
              "time_hours = np.linspace(0, 5, 100)\n",
              "\n",
              "# 2. Generate a base temperature profile (exponential rise)\n",
              "initial_temp = 25  # °C (room temperature)\n",
              "target_temp = 1000 # °C (furnace setpoint)\n",
              "heating_rate_constant = 1.0 # Controls how fast it heats up\n",
              "\n",
              "base_temperature = initial_temp + (target_temp - initial_temp) * (1 - np.exp(-heating_rate_constant * time_hours))\n",
              "\n",
              "# 3. Add random noise\n",
              "noise_std_dev = 20 # Standard deviation of the noise in °C\n",
              "noise = np.random.normal(0, noise_std_dev, len(time_hours))\n",
              "noisy_temperature = base_temperature + noise\n",
              "\n",
              "# Ensure temperature doesn't go below initial temp significantly due to noise\n",
              "noisy_temperature[noisy_temperature < initial_temp - noise_std_dev] = initial_temp - noise_std_dev\n",
              "\n",
              "# Create a DataFrame for better organization\n",
              "furnace_data = pd.DataFrame({\n",
              "    'Time (hours)': time_hours,\n",
              "    'Temperature (°C)': noisy_temperature\n",
              "})\n",
              "\n",
              "# 4. Select a sample of 10 data points (using the same random_state for reproducibility)\n",
              "sample_data = furnace_data.sample(n=10, random_state=42).sort_values(by='Time (hours)').reset_index(drop=True)\n",
              "\n",
              "# Add the smoothed data series (as done in the previous step)\n",
              "sample_data['Smoothed Temperature (°C)'] = sample_data['Temperature (°C)'].ewm(span=3).mean()\n",
              "\n",
              "# Generate descriptive statistics for the entire DataFrame\n",
              "descriptive_stats = sample_data.describe()\n",
              "\n",
              "print(\"Descriptive Statistics for the Sample Time Series Data (including Smoothed Temperature):\")\n",
              "print(descriptive_stats.to_string())\n",
              "</pre>"
            ]
          },
          "metadata": {}
        },
        {
          "output_type": "display_data",
          "data": {
            "text/plain": [
              "<IPython.core.display.Markdown object>"
            ],
            "text/markdown": "---"
          },
          "metadata": {}
        },
        {
          "output_type": "display_data",
          "data": {
            "text/plain": [
              "<IPython.core.display.Markdown object>"
            ],
            "text/markdown": "Descriptive Statistics for the Sample Time Series Data (including Smoothed Temperature):\n       Time (hours)  Temperature (°C)  Smoothed Temperature (°C)\ncount     10.000000         10.000000                  10.000000\nmean       2.252525        756.304451                 683.508581\nstd        1.425758        320.061619                 326.944108\nmin        0.000000          5.000000                   5.000000\n25%        1.325758        719.063846                 547.519762\n50%        2.247475        872.947528                 808.728882\n75%        3.320707        943.895983                 927.336353\nmax        4.191919       1001.639283                 971.434049\n"
          },
          "metadata": {}
        },
        {
          "output_type": "display_data",
          "data": {
            "text/plain": [
              "<IPython.core.display.Markdown object>"
            ],
            "text/markdown": "---"
          },
          "metadata": {}
        },
        {
          "output_type": "display_data",
          "data": {
            "text/plain": [
              "<IPython.core.display.Markdown object>"
            ],
            "text/markdown": "The table above provides the descriptive"
          },
          "metadata": {}
        },
        {
          "output_type": "display_data",
          "data": {
            "text/plain": [
              "<IPython.core.display.Markdown object>"
            ],
            "text/markdown": "---"
          },
          "metadata": {}
        },
        {
          "output_type": "display_data",
          "data": {
            "text/plain": [
              "<IPython.core.display.Markdown object>"
            ],
            "text/markdown": " statistics for 'Time (hours)', 'Temperature (°C)', and the newly added 'Smoothed Temperature (°"
          },
          "metadata": {}
        },
        {
          "output_type": "display_data",
          "data": {
            "text/plain": [
              "<IPython.core.display.Markdown object>"
            ],
            "text/markdown": "---"
          },
          "metadata": {}
        },
        {
          "output_type": "display_data",
          "data": {
            "text/plain": [
              "<IPython.core.display.Markdown object>"
            ],
            "text/markdown": "C)' columns in the 10-point sample data.\n\n**Key observations:**"
          },
          "metadata": {}
        },
        {
          "output_type": "display_data",
          "data": {
            "text/plain": [
              "<IPython.core.display.Markdown object>"
            ],
            "text/markdown": "---"
          },
          "metadata": {}
        },
        {
          "output_type": "display_data",
          "data": {
            "text/plain": [
              "<IPython.core.display.Markdown object>"
            ],
            "text/markdown": "\n\n*   **Count:** All columns have 10 data points, as expected.\n*   **Mean Temperature:** The mean of the raw `Temperature (°C)` is approximately"
          },
          "metadata": {}
        },
        {
          "output_type": "display_data",
          "data": {
            "text/plain": [
              "<IPython.core.display.Markdown object>"
            ],
            "text/markdown": "---"
          },
          "metadata": {}
        },
        {
          "output_type": "display_data",
          "data": {
            "text/plain": [
              "<IPython.core.display.Markdown object>"
            ],
            "text/markdown": " 756.30 °C, while the `Smoothed Temperature (°C)` has a mean of about 683.51 °C. The difference"
          },
          "metadata": {}
        },
        {
          "output_type": "display_data",
          "data": {
            "text/plain": [
              "<IPython.core.display.Markdown object>"
            ],
            "text/markdown": "---"
          },
          "metadata": {}
        },
        {
          "output_type": "display_data",
          "data": {
            "text/plain": [
              "<IPython.core.display.Markdown object>"
            ],
            "text/markdown": " is due to the nature of EWM, which gives more weight to recent values and can slightly shift the mean, especially with a small number of points and a strong trend.\n*   **Standard Deviation:** The standard deviation for `Temperature (°C)` is"
          },
          "metadata": {}
        },
        {
          "output_type": "display_data",
          "data": {
            "text/plain": [
              "<IPython.core.display.Markdown object>"
            ],
            "text/markdown": "---"
          },
          "metadata": {}
        },
        {
          "output_type": "display_data",
          "data": {
            "text/plain": [
              "<IPython.core.display.Markdown object>"
            ],
            "text/markdown": " about 320.06 °C, indicating its variability. The `Smoothed Temperature (°C)` has a standard deviation of about 326.94 °C. While smoothing generally reduces variance, with a small sample size and a"
          },
          "metadata": {}
        },
        {
          "output_type": "display_data",
          "data": {
            "text/plain": [
              "<IPython.core.display.Markdown object>"
            ],
            "text/markdown": "---"
          },
          "metadata": {}
        },
        {
          "output_type": "display_data",
          "data": {
            "text/plain": [
              "<IPython.core.display.Markdown object>"
            ],
            "text/markdown": " strong underlying trend, the EWM can sometimes show a slightly different standard deviation depending on the `span` and the data's initial points.\n*   **Min/Max Temperature:** The range for `Temperature (°C)` is from 5.00 °C to 1001.64 °C."
          },
          "metadata": {}
        },
        {
          "output_type": "display_data",
          "data": {
            "text/plain": [
              "<IPython.core.display.Markdown object>"
            ],
            "text/markdown": "---"
          },
          "metadata": {}
        },
        {
          "output_type": "display_data",
          "data": {
            "text/plain": [
              "<IPython.core.display.Markdown object>"
            ],
            "text/markdown": " For `Smoothed Temperature (°C)`, the range is from 5.00 °C to 971.43 °C. The smoothed data's maximum is slightly lower than the raw data's maximum, which is a typical effect of smoothing (reducing extreme values).\n*   **Quart"
          },
          "metadata": {}
        },
        {
          "output_type": "display_data",
          "data": {
            "text/plain": [
              "<IPython.core.display.Markdown object>"
            ],
            "text/markdown": "---"
          },
          "metadata": {}
        },
        {
          "output_type": "display_data",
          "data": {
            "text/plain": [
              "<IPython.core.display.Markdown object>"
            ],
            "text/markdown": "iles:** Comparing the quartiles, the `Smoothed Temperature (°C)` values generally show a less erratic progression than the raw `Temperature (°C)` values, reflecting the smoothing effect. For instance, the 25th percentile for smoothed data is 547.52 °C, while for raw data it's 7"
          },
          "metadata": {}
        },
        {
          "output_type": "display_data",
          "data": {
            "text/plain": [
              "<IPython.core.display.Markdown object>"
            ],
            "text/markdown": "---"
          },
          "metadata": {}
        },
        {
          "output_type": "display_data",
          "data": {
            "text/plain": [
              "<IPython.core.display.Markdown object>"
            ],
            "text/markdown": "19.06 °C, indicating that the smoothing has pulled down some of the lower values more significantly due to the exponential weighting."
          },
          "metadata": {}
        },
        {
          "output_type": "display_data",
          "data": {
            "text/plain": [
              "<IPython.core.display.Markdown object>"
            ],
            "text/markdown": "---"
          },
          "metadata": {}
        }
      ],
      "source": [
        "# Bây giờ hãy tạo ra và xuất các thống kê mô tả về dữ liệu chuỗi thời gian\n",
        "PROMPT = \"Now generate and output descriptive statistics on the time series data.\" # @param {type: \"string\" }\n",
        "\n",
        "response = chat.send_message_stream(PROMPT)\n",
        "\n",
        "for chunk in response:\n",
        "    display_code_execution_result(chunk)"
      ]
    },
    {
      "cell_type": "markdown",
      "metadata": {
        "id": "TBbNyWtDRZto"
      },
      "source": [
        "This chat example demonstrates how you can use the Gemini API with code execution as a powerful tool for exploratory data analysis and more. Go forth and adapt this approach to your own projects and use cases!"
      ]
    },
    {
      "cell_type": "markdown",
      "source": [
        "#### Your turn\n",
        "\n",
        "Rewrite the question in your language to understand how it work\n"
      ],
      "metadata": {
        "id": "C58L4giIjS-A"
      }
    },
    {
      "cell_type": "markdown",
      "metadata": {
        "id": "Cl86I5FkdotW"
      },
      "source": [
        "#### Your challenge\n",
        "\n",
        "![image](https://img.freepik.com/free-psd/roasted-chicken-dinner-platter-delicious-feast_632498-25445.jpg?semt=ais_hybrid&w=740)\n",
        "\n",
        "Here are image link https://img.freepik.com/free-psd/roasted-chicken-dinner-platter-delicious-feast_632498-25445.jpg\"\n",
        "\n",
        "Using 3 chat.send_message_stream solve this multistep problem:\n",
        "\n",
        "- Step 1: List all ingredient in the food image\n"
      ]
    },
    {
      "cell_type": "code",
      "source": [
        "# prompt: Here is link of food image https://img.freepik.com/free-psd/roasted-chicken-dinner-platter-delicious-feast_632498-25445.jpg\"\n",
        "# List all ingredient in the food image\n",
        "\n",
        "IMAGE_URL = \"https://img.freepik.com/free-psd/roasted-chicken-dinner-platter-delicious-feast_632498-25445.jpg\"\n",
        "! curl -o food_image.jpg {IMAGE_URL}\n",
        "food_image = PIL.Image.open(\"food_image.jpg\")\n",
        "\n",
        "chat = client.chats.create(\n",
        "    model=MODEL_ID,\n",
        "    config=GenerateContentConfig(\n",
        "        tools=[code_execution_tool],\n",
        "        temperature=0,\n",
        "    ),\n",
        ")\n",
        "\n",
        "PROMPT = \"List all ingredient in the food image\"\n",
        "\n",
        "response = chat.send_message_stream([PROMPT, food_image])\n",
        "\n",
        "for chunk in response:\n",
        "    display_code_execution_result(chunk)"
      ],
      "metadata": {
        "colab": {
          "base_uri": "https://localhost:8080/",
          "height": 310
        },
        "id": "6UueAppTfATs",
        "outputId": "04b50a4c-e9ab-4db4-e26a-25dae6300269"
      },
      "execution_count": 88,
      "outputs": [
        {
          "output_type": "stream",
          "name": "stdout",
          "text": [
            "  % Total    % Received % Xferd  Average Speed   Time    Time     Time  Current\n",
            "                                 Dload  Upload   Total   Spent    Left  Speed\n",
            "\r  0     0    0     0    0     0      0      0 --:--:-- --:--:-- --:--:--     0\r100  138k  100  138k    0     0   846k      0 --:--:-- --:--:-- --:--:--  848k\n"
          ]
        },
        {
          "output_type": "display_data",
          "data": {
            "text/plain": [
              "<IPython.core.display.Markdown object>"
            ],
            "text/markdown": "Based on the image provided, the following ingredients can be identified:\n\n*   **Roasted Chicken** (pieces"
          },
          "metadata": {}
        },
        {
          "output_type": "display_data",
          "data": {
            "text/plain": [
              "<IPython.core.display.Markdown object>"
            ],
            "text/markdown": "---"
          },
          "metadata": {}
        },
        {
          "output_type": "display_data",
          "data": {
            "text/plain": [
              "<IPython.core.display.Markdown object>"
            ],
            "text/markdown": " including breast and leg/thigh)\n*   **Roasted Potatoes**\n*   **Diced Sweet Potatoes or Carrots** (orange cubes)\n*   **Broccoli**\n*   **Green Peas**\n*   **Herbs** (likely thyme, used as garnish)\n*   **Roasted Onions"
          },
          "metadata": {}
        },
        {
          "output_type": "display_data",
          "data": {
            "text/plain": [
              "<IPython.core.display.Markdown object>"
            ],
            "text/markdown": "---"
          },
          "metadata": {}
        },
        {
          "output_type": "display_data",
          "data": {
            "text/plain": [
              "<IPython.core.display.Markdown object>"
            ],
            "text/markdown": " or Shallots** (darker, roundish items on the left)"
          },
          "metadata": {}
        },
        {
          "output_type": "display_data",
          "data": {
            "text/plain": [
              "<IPython.core.display.Markdown object>"
            ],
            "text/markdown": "---"
          },
          "metadata": {}
        }
      ]
    },
    {
      "cell_type": "markdown",
      "source": [
        "Then calculate nutrition of the food based on the ingredient"
      ],
      "metadata": {
        "id": "KO3wEya9hY88"
      }
    },
    {
      "cell_type": "code",
      "source": [
        "# prompt: Calculate protein, carb, fat of each ingredient\n",
        "\n",
        "PROMPT = \"\"\"Calculate protein, carb, fat of each ingredient.\n",
        "Provide the output as a Python dictionary where the keys are the ingredients and the values are dictionaries containing 'protein', 'carb', and 'fat' in grams per 100g.\"\"\"\n",
        "\n",
        "response = chat.send_message_stream(PROMPT)\n",
        "\n",
        "for chunk in response:\n",
        "    display_code_execution_result(chunk)\n"
      ],
      "metadata": {
        "id": "YubT5l5phX7B",
        "outputId": "06f4a05f-1887-405c-9e57-7843044da278",
        "colab": {
          "base_uri": "https://localhost:8080/",
          "height": 744
        }
      },
      "execution_count": 91,
      "outputs": [
        {
          "output_type": "display_data",
          "data": {
            "text/plain": [
              "<IPython.core.display.Markdown object>"
            ],
            "text/markdown": "Here is the approximate nutritional information (protein, carbohydrates, and fat) for each identified ingredient, expressed in grams per 100g. These values are based on typical cooked forms of these foods and are estimates.\n\n"
          },
          "metadata": {}
        },
        {
          "output_type": "display_data",
          "data": {
            "text/plain": [
              "<IPython.core.display.Markdown object>"
            ],
            "text/markdown": "---"
          },
          "metadata": {}
        },
        {
          "output_type": "display_data",
          "data": {
            "text/plain": [
              "<IPython.core.display.HTML object>"
            ],
            "text/html": [
              "<pre style=\"background-color: green;\">nutritional_info_per_100g = {\n",
              "    \"Roasted Chicken\": {\n",
              "        \"protein\": 30,  # g per 100g (cooked, with skin)\n",
              "        \"carb\": 0,      # g per 100g\n",
              "        \"fat\": 15       # g per 100g (cooked, with skin)\n",
              "    },\n",
              "    \"Roasted Potatoes\": {\n",
              "        \"protein\": 2,   # g per 100g (cooked, with added fat from roasting)\n",
              "        \"carb\": 17,     # g per 100g\n",
              "        \"fat\": 5        # g per 100g (from roasting oil)\n",
              "    },\n",
              "    \"Diced Sweet Potatoes\": { # Assuming these are sweet potatoes based on color\n",
              "        \"protein\": 2,   # g per 100g (cooked, with added fat from roasting)\n",
              "        \"carb\": 20,     # g per 100g\n",
              "        \"fat\": 5        # g per 100g (from roasting oil)\n",
              "    },\n",
              "    \"Broccoli\": {\n",
              "        \"protein\": 3,   # g per 100g (cooked)\n",
              "        \"carb\": 7,      # g per 100g\n",
              "        \"fat\": 0.5      # g per 100g\n",
              "    },\n",
              "    \"Green Peas\": {\n",
              "        \"protein\": 5,   # g per 100g (cooked)\n",
              "        \"carb\": 14,     # g per 100g\n",
              "        \"fat\": 0.5      # g per 100g\n",
              "    }\n",
              "}\n",
              "\n",
              "print(nutritional_info_per_100g)</pre>"
            ]
          },
          "metadata": {}
        },
        {
          "output_type": "display_data",
          "data": {
            "text/plain": [
              "<IPython.core.display.Markdown object>"
            ],
            "text/markdown": "---"
          },
          "metadata": {}
        },
        {
          "output_type": "display_data",
          "data": {
            "text/plain": [
              "<IPython.core.display.Markdown object>"
            ],
            "text/markdown": "{'Roasted Chicken': {'protein': 30, 'carb': 0, 'fat': 15}, 'Roasted Potatoes': {'protein': 2, 'carb': 17, 'fat': 5}, 'Diced Sweet Potatoes': {'protein': 2, 'carb': 20, 'fat': 5}, 'Broccoli': {'protein': 3, 'carb': 7, 'fat': 0.5}, 'Green Peas': {'protein': 5, 'carb': 14, 'fat': 0.5}}\n"
          },
          "metadata": {}
        },
        {
          "output_type": "display_data",
          "data": {
            "text/plain": [
              "<IPython.core.display.Markdown object>"
            ],
            "text/markdown": "---"
          },
          "metadata": {}
        },
        {
          "output_type": "display_data",
          "data": {
            "text/plain": [
              "<IPython.core.display.Markdown object>"
            ],
            "text/markdown": "The Python dictionary containing the approximate"
          },
          "metadata": {}
        },
        {
          "output_type": "display_data",
          "data": {
            "text/plain": [
              "<IPython.core.display.Markdown object>"
            ],
            "text/markdown": "---"
          },
          "metadata": {}
        },
        {
          "output_type": "display_data",
          "data": {
            "text/plain": [
              "<IPython.core.display.Markdown object>"
            ],
            "text/markdown": " protein, carbohydrate, and fat content (in grams per 100g) for each ingredient"
          },
          "metadata": {}
        },
        {
          "output_type": "display_data",
          "data": {
            "text/plain": [
              "<IPython.core.display.Markdown object>"
            ],
            "text/markdown": "---"
          },
          "metadata": {}
        },
        {
          "output_type": "display_data",
          "data": {
            "text/plain": [
              "<IPython.core.display.Markdown object>"
            ],
            "text/markdown": " is provided above."
          },
          "metadata": {}
        },
        {
          "output_type": "display_data",
          "data": {
            "text/plain": [
              "<IPython.core.display.Markdown object>"
            ],
            "text/markdown": "---"
          },
          "metadata": {}
        }
      ]
    },
    {
      "cell_type": "markdown",
      "source": [
        "\n",
        "Then draw chart to visualize the result"
      ],
      "metadata": {
        "id": "Hb83kXEjhdgB"
      }
    },
    {
      "cell_type": "code",
      "source": [
        "# prompt: Then draw chart to visualize the nutrition of each ingredient\n",
        "\n",
        "PROMPT = \"Visualize the protein, carb, and fat content of each ingredient using a bar chart.\"\n",
        "\n",
        "response = chat.send_message_stream(PROMPT)\n",
        "\n",
        "for chunk in response:\n",
        "    display_code_execution_result(chunk)\n"
      ],
      "metadata": {
        "id": "zUS5e2C-hcuG",
        "outputId": "f1b20258-ffa2-4b98-d74f-09461bd93547",
        "colab": {
          "base_uri": "https://localhost:8080/",
          "height": 1000
        }
      },
      "execution_count": 92,
      "outputs": [
        {
          "output_type": "display_data",
          "data": {
            "text/plain": [
              "<IPython.core.display.HTML object>"
            ],
            "text/html": [
              "<pre style=\"background-color: green;\">import matplotlib.pyplot as plt\n",
              "import pandas as pd\n",
              "\n",
              "# Nutritional information per 100g from the previous step\n",
              "nutritional_info_per_100g = {\n",
              "    \"Roasted Chicken\": {\n",
              "        \"protein\": 30,\n",
              "        \"carb\": 0,\n",
              "        \"fat\": 15\n",
              "    },\n",
              "    \"Roasted Potatoes\": {\n",
              "        \"protein\": 2,\n",
              "        \"carb\": 17,\n",
              "        \"fat\": 5\n",
              "    },\n",
              "    \"Diced Sweet Potatoes\": {\n",
              "        \"protein\": 2,\n",
              "        \"carb\": 20,\n",
              "        \"fat\": 5\n",
              "    },\n",
              "    \"Broccoli\": {\n",
              "        \"protein\": 3,\n",
              "        \"carb\": 7,\n",
              "        \"fat\": 0.5\n",
              "    },\n",
              "    \"Green Peas\": {\n",
              "        \"protein\": 5,\n",
              "        \"carb\": 14,\n",
              "        \"fat\": 0.5\n",
              "    }\n",
              "}\n",
              "\n",
              "# Convert the dictionary to a pandas DataFrame\n",
              "df_nutrients = pd.DataFrame.from_dict(nutritional_info_per_100g, orient='index')\n",
              "df_nutrients.index.name = 'Ingredient'\n",
              "df_nutrients = df_nutrients.reset_index()\n",
              "\n",
              "# Set up the plot\n",
              "fig, axes = plt.subplots(1, 3, figsize=(18, 6), sharey=False) # Use sharey=False as scales might differ\n",
              "axes = axes.flatten() # Flatten to easily iterate\n",
              "\n",
              "nutrients_to_plot = ['protein', 'carb', 'fat']\n",
              "colors = ['skyblue', 'lightcoral', 'lightgreen']\n",
              "\n",
              "for i, nutrient in enumerate(nutrients_to_plot):\n",
              "    ax = axes[i]\n",
              "    ax.bar(df_nutrients['Ingredient'], df_nutrients[nutrient], color=colors[i])\n",
              "    ax.set_title(f'{nutrient.capitalize()} (g) per 100g')\n",
              "    ax.set_ylabel(f'{nutrient.capitalize()} (g)')\n",
              "    ax.set_xticklabels(df_nutrients['Ingredient'], rotation=45, ha='right')\n",
              "    ax.grid(axis='y', linestyle='--', alpha=0.7)\n",
              "\n",
              "plt.tight_layout()\n",
              "plt.show()</pre>"
            ]
          },
          "metadata": {}
        },
        {
          "output_type": "display_data",
          "data": {
            "text/plain": [
              "<IPython.core.display.Markdown object>"
            ],
            "text/markdown": "---"
          },
          "metadata": {}
        },
        {
          "output_type": "display_data",
          "data": {
            "image/png": "[encoded data removed]",
            "text/plain": [
              "<IPython.core.display.Image object>"
            ]
          },
          "metadata": {
            "image/png": {
              "width": 800
            }
          }
        },
        {
          "output_type": "display_data",
          "data": {
            "text/plain": [
              "<IPython.core.display.Markdown object>"
            ],
            "text/markdown": "---"
          },
          "metadata": {}
        },
        {
          "output_type": "display_data",
          "data": {
            "text/plain": [
              "<IPython.core.display.Markdown object>"
            ],
            "text/markdown": "The bar charts visualizing the protein, carbohydrate, and fat content (in grams per 10"
          },
          "metadata": {}
        },
        {
          "output_type": "display_data",
          "data": {
            "text/plain": [
              "<IPython.core.display.Markdown object>"
            ],
            "text/markdown": "---"
          },
          "metadata": {}
        },
        {
          "output_type": "display_data",
          "data": {
            "text/plain": [
              "<IPython.core.display.Markdown object>"
            ],
            "text/markdown": "0g) for each ingredient have been successfully generated.\n\nThe image displays three separate bar charts:\n\n1.  **Protein (g) per 100g:** This chart clearly shows that **Roasted Chicken** is by far the most"
          },
          "metadata": {}
        },
        {
          "output_type": "display_data",
          "data": {
            "text/plain": [
              "<IPython.core.display.Markdown object>"
            ],
            "text/markdown": "---"
          },
          "metadata": {}
        },
        {
          "output_type": "display_data",
          "data": {
            "text/plain": [
              "<IPython.core.display.Markdown object>"
            ],
            "text/markdown": " significant source of protein, with approximately 30g per 100g. The other ingredients (Roasted Potatoes, Diced Sweet Potatoes, Broccoli, Green Peas) contribute much smaller amounts of protein per 100g."
          },
          "metadata": {}
        },
        {
          "output_type": "display_data",
          "data": {
            "text/plain": [
              "<IPython.core.display.Markdown object>"
            ],
            "text/markdown": "---"
          },
          "metadata": {}
        },
        {
          "output_type": "display_data",
          "data": {
            "text/plain": [
              "<IPython.core.display.Markdown object>"
            ],
            "text/markdown": "\n2.  **Carb (g) per 100g:** This chart indicates that **Diced Sweet Potatoes** and **Roasted Potatoes** are the primary sources of carbohydrates, with approximately 20g and 17g per 100g, respectively. Green Peas also contribute a notable amount of"
          },
          "metadata": {}
        },
        {
          "output_type": "display_data",
          "data": {
            "text/plain": [
              "<IPython.core.display.Markdown object>"
            ],
            "text/markdown": "---"
          },
          "metadata": {}
        },
        {
          "output_type": "display_data",
          "data": {
            "text/plain": [
              "<IPython.core.display.Markdown object>"
            ],
            "text/markdown": " carbohydrates (around 14g per 100g), followed by Broccoli (around 7g per 100g). Roasted Chicken has 0g of carbohydrates.\n3.  **Fat (g) per 100g:** This chart highlights that **Roasted Chicken** contains the highest"
          },
          "metadata": {}
        },
        {
          "output_type": "display_data",
          "data": {
            "text/plain": [
              "<IPython.core.display.Markdown object>"
            ],
            "text/markdown": "---"
          },
          "metadata": {}
        },
        {
          "output_type": "display_data",
          "data": {
            "text/plain": [
              "<IPython.core.display.Markdown object>"
            ],
            "text/markdown": " amount of fat (approximately 15g per 100g). Roasted Potatoes and Diced Sweet Potatoes also contribute a moderate amount of fat (around 5g per 100g), likely due to the roasting process with added oil. Broccoli and Green Peas have very low fat content (around 0"
          },
          "metadata": {}
        },
        {
          "output_type": "display_data",
          "data": {
            "text/plain": [
              "<IPython.core.display.Markdown object>"
            ],
            "text/markdown": "---"
          },
          "metadata": {}
        },
        {
          "output_type": "display_data",
          "data": {
            "text/plain": [
              "<IPython.core.display.Markdown object>"
            ],
            "text/markdown": ".5g per 100g).\n\nThese charts effectively illustrate the macronutrient breakdown of each ingredient on a per 100g basis, allowing for a clear comparison of their nutritional profiles."
          },
          "metadata": {}
        },
        {
          "output_type": "display_data",
          "data": {
            "text/plain": [
              "<IPython.core.display.Markdown object>"
            ],
            "text/markdown": "---"
          },
          "metadata": {}
        }
      ]
    }
  ],
  "metadata": {
    "colab": {
      "collapsed_sections": [
        "YZNpgtKJDdPZ"
      ],
      "name": "intro_code_execution.ipynb",
      "provenance": [],
      "toc_visible": true
    },
    "kernelspec": {
      "display_name": "gdg-intro-to-code-execution (3.13.2)",
      "language": "python",
      "name": "python3"
    },
    "language_info": {
      "name": "python",
      "version": "3.13.2"
    }
  },
  "nbformat": 4,
  "nbformat_minor": 0
}